{
 "cells": [
  {
   "cell_type": "code",
   "execution_count": 13,
   "id": "b910fdb7",
   "metadata": {
    "scrolled": true
   },
   "outputs": [
    {
     "name": "stdout",
     "output_type": "stream",
     "text": [
      "H\n",
      "e\n",
      "l\n",
      "l\n",
      "o\n",
      ",\n",
      " \n",
      "W\n",
      "o\n",
      "r\n",
      "l\n",
      "d\n",
      ".\n"
     ]
    }
   ],
   "source": [
    "for letter in \"Hello, World.\":\n",
    "    print(letter)"
   ]
  },
  {
   "cell_type": "markdown",
   "id": "07b43aa6",
   "metadata": {},
   "source": [
    "# Problem 1\n",
    "#### Given 2 strings (string_a and string_b) let's check whether or not they are anagrams of each other given the following criteria:\n",
    "\n",
    "> Two strings are only anagrams of each other if all conditions below are met:\n",
    "> * They must be exactly the same length.\n",
    "> * They must use exactly the same characters (no more, no less).\n",
    "...\n",
    "Example(s): cars and scar, heart and earth, etc.\n",
    "..."
   ]
  },
  {
   "cell_type": "code",
   "execution_count": 12,
   "id": "2119cff1",
   "metadata": {
    "scrolled": false
   },
   "outputs": [],
   "source": [
    "def is_anagram(str1, str2):\n",
    "    return sorted(string_a) ==sorted(string_b)"
   ]
  },
  {
   "cell_type": "code",
   "execution_count": 4,
   "id": "ac52b472",
   "metadata": {},
   "outputs": [
    {
     "name": "stdout",
     "output_type": "stream",
     "text": [
      "True\n",
      "True\n",
      "False\n",
      "True\n"
     ]
    }
   ],
   "source": [
    "def test(st1, st2):\n",
    "    \n",
    "    st1 = st1.replace(\" \", \"\").lower()\n",
    "    st2 = st2.replace(\" \", \"\").lower()\n",
    "    \n",
    "    t = {}\n",
    "    for x in st1:\n",
    "        if x not in t:\n",
    "            t[x] = 0\n",
    "        t[x] += 1\n",
    "        \n",
    "    p = {}\n",
    "    for x in st2:\n",
    "        if x not in p:\n",
    "            p[x] = 0\n",
    "        p[x] += 1\n",
    "        \n",
    "    return t ==p\n",
    "\n",
    "print(test('cars', 'scar'))\n",
    "print(test('Cars', 'SCAR'))\n",
    "print(test('carts', 'scar'))\n",
    "print(test('c ars', 'scar  '))"
   ]
  }
 ],
 "metadata": {
  "kernelspec": {
   "display_name": "Python 3 (ipykernel)",
   "language": "python",
   "name": "python3"
  },
  "language_info": {
   "codemirror_mode": {
    "name": "ipython",
    "version": 3
   },
   "file_extension": ".py",
   "mimetype": "text/x-python",
   "name": "python",
   "nbconvert_exporter": "python",
   "pygments_lexer": "ipython3",
   "version": "3.8.10"
  }
 },
 "nbformat": 4,
 "nbformat_minor": 5
}
