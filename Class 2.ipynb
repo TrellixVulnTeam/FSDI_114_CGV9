{
 "cells": [
  {
   "cell_type": "code",
   "execution_count": 6,
   "id": "02aeb0d6",
   "metadata": {},
   "outputs": [],
   "source": [
    "class Stack:\n",
    "    def __init__(self):\n",
    "        self.items = []\n",
    "        \n",
    "    def push(self, element):\n",
    "        self.items.append(element)\n",
    "        \n",
    "    def pop(self):\n",
    "        return self.items.pop()\n",
    "    \n",
    "    def get_size(self):\n",
    "        return len(self.items)\n",
    "    \n",
    "    def is_empty(self):\n",
    "        return self.items ==[]\n",
    "    "
   ]
  },
  {
   "cell_type": "code",
   "execution_count": 7,
   "id": "0f7c2877",
   "metadata": {},
   "outputs": [
    {
     "name": "stdout",
     "output_type": "stream",
     "text": [
      "Pushing 1\n",
      "Pushing 2\n",
      "Pushing 3\n",
      "Pushing 4\n",
      "Pushing 5\n",
      "Got 5 from pop result\n",
      "Got 4 from pop result\n",
      "Got 3 from pop result\n",
      "Got 2 from pop result\n",
      "Got 1 from pop result\n"
     ]
    }
   ],
   "source": [
    "numbers = [1,2,3,4,5]\n",
    "\n",
    "def print_inverted_list(my_collection):\n",
    "    stack = Stack()\n",
    "    for number in numbers:\n",
    "        print(numbers = [1,2,3,4,5]\n",
    "\n",
    "def print_inverted_list(my_collection):\n",
    "    stack = Stack()\n",
    "    for number in numbers:\n",
    "        print(\"Pushing %s\" % number)\n",
    "        stack.push(number)\n",
    "    while not stack.is_empty():\n",
    "        number = stack.pop()\n",
    "        print(\"Got %s from pop result\" % number)\n",
    "        \n",
    "print_inverted_list(numbers) % number)\n",
    "        stack.push(number)\n",
    "    while not stack.is_empty():\n",
    "        number = stack.pop()\n",
    "        print(\"Got %s from pop result\" % number)\n",
    "        \n",
    "print_inverted_list(numbers)"
   ]
  },
  {
   "cell_type": "markdown",
   "id": "a1397639",
   "metadata": {},
   "source": [
    "# Mini Challenge 1\n",
    "### Use a stack to invert a string.\n",
    "##### Given \"mystring\" as a parameter, invert it.\n",
    "    Examples:\n",
    "    Mark -> kram\n",
    "    Omer -> remo\n",
    "  Suggestion: reverse_string(mystring)"
   ]
  },
  {
   "cell_type": "code",
   "execution_count": null,
   "id": "32efd7ea",
   "metadata": {},
   "outputs": [],
   "source": [
    "class Stack:\n",
    "    def __init__(self):\n",
    "        self.items = []\n",
    "        \n",
    "    def push(self, element):\n",
    "        self.items.append(element)\n",
    "        \n",
    "    def pop(self):\n",
    "        return self.items.pop()"
   ]
  },
  {
   "cell_type": "code",
   "execution_count": 17,
   "id": "b967f64b",
   "metadata": {
    "scrolled": false
   },
   "outputs": [
    {
     "name": "stdout",
     "output_type": "stream",
     "text": [
      "Pushing m\n",
      "Pushing a\n",
      "Pushing r\n",
      "Pushing k\n",
      "Got k from pop result\n",
      "Got r from pop result\n",
      "Got a from pop result\n",
      "Got m from pop result\n"
     ]
    }
   ],
   "source": [
    "letters = \"mark\"\n",
    "\n",
    "def print_inverted_list(my_collection):\n",
    "    stack = Stack()\n",
    "    for letter in letters:\n",
    "        print(\"Pushing %s\" % letter)\n",
    "        stack.push(letter)\n",
    "    while not stack.is_empty():\n",
    "        letter = stack.pop()\n",
    "        print(\"Got %s from pop result\" % letter)\n",
    "        \n",
    "print_inverted_list(letters)"
   ]
  },
  {
   "cell_type": "code",
   "execution_count": 19,
   "id": "2088ba0e",
   "metadata": {},
   "outputs": [],
   "source": [
    "class Queue:\n",
    "    def __init__(self):\n",
    "        self.items = []\n",
    "    \n",
    "    def enqueue(self, element):\n",
    "        self.items.append(element)\n",
    "        \n",
    "    def dequeue(self):\n",
    "        self.items.pop(0)\n",
    "        \n",
    "    def get_size(self):\n",
    "        return len(self.items)\n",
    "        \n",
    "    def is_empty(self):\n",
    "        return self.items == []\n",
    "    "
   ]
  },
  {
   "cell_type": "markdown",
   "id": "3962662b",
   "metadata": {},
   "source": [
    "# Mini Challenge 2\n",
    "### Create a queue form 2 stacks.\n",
    "##### Create a class named Queue2Stacks that consists of only 2 stacks.\n",
    "> The Queue2Stacks class should maintain the ordering principle of ta Queue while being made up of two stacks (as its only class attributes)\n",
    "\n",
    "```Example (of ordering principle):\n",
    "\n",
    "myqueue = Queue2Stacks()\n",
    "myqueue.enqueue(\"A\")\n",
    "myqueue.enqueue(\"B\")\n",
    "myqueue.enqueue(\"C\")\n",
    "\n",
    "assert myqueue.dqueue() ==\"A\"\n",
    "assert myqueue.dequeue() == \"B\"\n",
    "assert myqueue.dequeue() == \"C\"\n",
    "\n",
    "class Queue2Stacks:\n",
    "    def __init__(self):\n",
    "        self.instack = []\n",
    "        self.outstack = []"
   ]
  },
  {
   "cell_type": "code",
   "execution_count": 29,
   "id": "ad4d2166",
   "metadata": {
    "scrolled": true
   },
   "outputs": [
    {
     "name": "stdout",
     "output_type": "stream",
     "text": [
      "<__main__.Queue2Stacks object at 0x7f53443baa30>\n"
     ]
    }
   ],
   "source": [
    "numbers = [1,2,3,4,5]\n",
    "\n",
    "class Queue2Stacks:\n",
    "    def __init__(self):\n",
    "        self.st1 = []\n",
    "        self.st2 = []\n",
    "        \n",
    "    def enqueue(self, item):\n",
    "        self.st1.append(item)\n",
    "        \n",
    "    def dequeue(self):\n",
    "        if self.st2 == []:    # same as -> if not self.stack2:\n",
    "            while self.st1:\n",
    "                item = self.st1.pop()\n",
    "                self.st2.append(item)\n",
    "        return self.st2.pop()\n",
    "      \n"
   ]
  },
  {
   "cell_type": "code",
   "execution_count": 34,
   "id": "f6cb522e",
   "metadata": {},
   "outputs": [
    {
     "name": "stdout",
     "output_type": "stream",
     "text": [
      "0\n",
      "1\n",
      "2\n",
      "3\n",
      "4\n",
      "0\n",
      "1\n",
      "2\n",
      "3\n",
      "4\n"
     ]
    }
   ],
   "source": [
    "myqueue = Queue2Stacks()\n",
    "for i in range(5):\n",
    "    myqueue.enqueue(i)\n",
    "    print(i)\n",
    "    \n",
    "for _ in range(5):\n",
    "    item = myqueue.dequeue()\n",
    "    print(item)"
   ]
  }
 ],
 "metadata": {
  "celltoolbar": "Tags",
  "kernelspec": {
   "display_name": "Python 3 (ipykernel)",
   "language": "python",
   "name": "python3"
  },
  "language_info": {
   "codemirror_mode": {
    "name": "ipython",
    "version": 3
   },
   "file_extension": ".py",
   "mimetype": "text/x-python",
   "name": "python",
   "nbconvert_exporter": "python",
   "pygments_lexer": "ipython3",
   "version": "3.8.10"
  }
 },
 "nbformat": 4,
 "nbformat_minor": 5
}
